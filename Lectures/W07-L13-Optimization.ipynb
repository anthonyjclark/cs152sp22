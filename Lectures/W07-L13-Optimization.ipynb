{
 "cells": [
  {
   "cell_type": "markdown",
   "id": "01a4f835",
   "metadata": {
    "toc": true
   },
   "source": [
    "<h1>Table of Contents<span class=\"tocSkip\"></span></h1>\n",
    "<div class=\"toc\"><ul class=\"toc-item\"></ul></div>"
   ]
  },
  {
   "cell_type": "code",
   "execution_count": null,
   "id": "e87264b4",
   "metadata": {},
   "outputs": [],
   "source": [
    "%matplotlib notebook"
   ]
  },
  {
   "cell_type": "code",
   "execution_count": null,
   "id": "bd90cd69",
   "metadata": {},
   "outputs": [],
   "source": [
    "import torch\n",
    "from torch.utils.data import Dataset, DataLoader\n",
    "\n",
    "from fastprogress.fastprogress import master_bar, progress_bar\n",
    "\n",
    "from matplotlib import pyplot as plt\n",
    "from matplotlib.animation import FuncAnimation\n",
    "from jupyterthemes import jtplot\n",
    "from IPython.display import HTML\n",
    "\n",
    "jtplot.style(context=\"talk\")"
   ]
  },
  {
   "cell_type": "code",
   "execution_count": null,
   "id": "bdd61034",
   "metadata": {},
   "outputs": [],
   "source": [
    "def loss_landscape_function(X):\n",
    "    \"\"\"Generate a pretty loss landscape.\"\"\"\n",
    "\n",
    "    # Portion below x-y plane (l < 0)\n",
    "    l1 = size * torch.exp(-(X ** 2).sum(dim=1) / 2) / (2 * torch.pi)\n",
    "\n",
    "    # Portion above x-y plane (l > 0)\n",
    "    shift = torch.tensor([1.5, 0.5])\n",
    "    l2 = size * torch.exp(-(((X - 1) / shift) ** 2).sum(dim=1) / 2) / (1.5 * torch.pi)\n",
    "\n",
    "    return 1.5 * (l2 - l1)\n",
    "\n",
    "\n",
    "def loss_landscape_plot_data(size, step=0.1):\n",
    "    x1 = x2 = torch.arange(-size, size, step)\n",
    "    X1, X2 = torch.meshgrid(x1, x2, indexing=\"ij\")\n",
    "    X = torch.stack([X1.reshape(-1), X2.reshape(-1)], dim=1)\n",
    "    L = loss_landscape_function(X).reshape_as(X1)\n",
    "    return X1, X2, L\n",
    "\n",
    "\n",
    "def plot_loss_landscape(size, step=0.1):\n",
    "\n",
    "    fig = plt.figure(figsize=(8, 8))\n",
    "    ax = fig.add_subplot(projection=\"3d\")\n",
    "\n",
    "    X1, X2, L = loss_landscape_plot_data(size, step)\n",
    "    ax.contourf(X1, X2, L, zdir=\"z\", offset=-1, zorder=1)\n",
    "    ax.plot_surface(X1, X2, L, zorder=2)\n",
    "\n",
    "    ax.set_xlim(-4, 4)\n",
    "    ax.set_ylim(-4, 4)\n",
    "    ax.set_zlim(-1, 1)\n",
    "\n",
    "    ax.set_xticklabels([])\n",
    "    ax.set_yticklabels([])\n",
    "    ax.set_zticklabels([])\n",
    "\n",
    "    ax.set_xlabel(\"Parameter 1\")\n",
    "    ax.set_ylabel(\"Parameter 2\")\n",
    "    ax.set_zlabel(\"Loss\")\n",
    "\n",
    "    return ax"
   ]
  },
  {
   "cell_type": "code",
   "execution_count": null,
   "id": "be5e8f63",
   "metadata": {},
   "outputs": [],
   "source": [
    "size = 3\n",
    "\n",
    "W = torch.tensor([[1.5, 1.0]], requires_grad=True)\n",
    "\n",
    "learning_rate = 0.01 # 0.1\n",
    "\n",
    "# optimizer = torch.optim.SGD([W], lr=learning_rate)\n",
    "# optimizer = torch.optim.SGD([W], lr=learning_rate, momentum=0.9)\n",
    "# optimizer = torch.optim.RMSprop([W], lr=learning_rate)\n",
    "optimizer = torch.optim.Adam([W], lr=learning_rate)\n",
    "\n",
    "criterion = torch.nn.MSELoss()\n",
    "\n",
    "w1s = []\n",
    "w2s = []\n",
    "ls = []\n",
    "\n",
    "for epoch in range(100):\n",
    "    loss = loss_landscape_function(W)\n",
    "\n",
    "    w1s.append(W[0][0].item())\n",
    "    w2s.append(W[0][1].item())\n",
    "    ls.append(loss.item() + 0.05)\n",
    "\n",
    "    optimizer.zero_grad()\n",
    "    loss.backward()\n",
    "    optimizer.step()"
   ]
  },
  {
   "cell_type": "code",
   "execution_count": null,
   "id": "476d9d7c",
   "metadata": {},
   "outputs": [],
   "source": [
    "size = 3\n",
    "ax = plot_loss_landscape(size)\n",
    "ax.plot(w1s, w2s, ls, color=\"green\", linewidth=4, zorder=11)"
   ]
  },
  {
   "cell_type": "code",
   "execution_count": null,
   "id": "448e61fa",
   "metadata": {},
   "outputs": [],
   "source": [
    "X1, X2, L = loss_landscape_plot_data(size, 0.1)\n",
    "plt.contour(X1, X2, L, levels=10)\n",
    "plt.plot(w1s, w2s, \"r\")\n",
    "plt.colorbar()"
   ]
  },
  {
   "cell_type": "code",
   "execution_count": null,
   "id": "f2402b3d",
   "metadata": {},
   "outputs": [],
   "source": [
    "fig, ax = plt.subplots(figsize=(8, 8))\n",
    "\n",
    "ax.contour(X1, X2, L, levels=10)\n",
    "(line,) = ax.plot([], [], color=\"r\", lw=2)\n",
    "\n",
    "\n",
    "def animate(frame):\n",
    "    line.set_data(w1s[:frame], w2s[:frame])\n",
    "    return (line,)\n",
    "\n",
    "\n",
    "animation = FuncAnimation(fig, animate, len(w1s))"
   ]
  },
  {
   "cell_type": "code",
   "execution_count": null,
   "id": "b69ec081",
   "metadata": {},
   "outputs": [],
   "source": [
    "HTML(animation.to_jshtml())"
   ]
  },
  {
   "cell_type": "code",
   "execution_count": null,
   "id": "e0bdee5d",
   "metadata": {},
   "outputs": [],
   "source": []
  },
  {
   "cell_type": "code",
   "execution_count": null,
   "id": "e55c5954",
   "metadata": {},
   "outputs": [],
   "source": []
  }
 ],
 "metadata": {
  "jupytext": {
   "formats": "ipynb,py:percent"
  },
  "kernelspec": {
   "display_name": "Python 3 (ipykernel)",
   "language": "python",
   "name": "python3"
  },
  "language_info": {
   "codemirror_mode": {
    "name": "ipython",
    "version": 3
   },
   "file_extension": ".py",
   "mimetype": "text/x-python",
   "name": "python",
   "nbconvert_exporter": "python",
   "pygments_lexer": "ipython3",
   "version": "3.9.9"
  },
  "toc": {
   "base_numbering": 1,
   "nav_menu": {},
   "number_sections": true,
   "sideBar": true,
   "skip_h1_title": true,
   "title_cell": "Table of Contents",
   "title_sidebar": "Contents",
   "toc_cell": true,
   "toc_position": {},
   "toc_section_display": true,
   "toc_window_display": false
  }
 },
 "nbformat": 4,
 "nbformat_minor": 5
}
