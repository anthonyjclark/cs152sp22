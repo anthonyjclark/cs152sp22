{
 "cells": [
  {
   "cell_type": "markdown",
   "id": "909ee181",
   "metadata": {
    "toc": true
   },
   "source": [
    "<h1>Table of Contents<span class=\"tocSkip\"></span></h1>\n",
    "<div class=\"toc\"><ul class=\"toc-item\"><li><span><a href=\"#Set-Hyperparameters\" data-toc-modified-id=\"Set-Hyperparameters-1\"><span class=\"toc-item-num\">1&nbsp;&nbsp;</span>Set Hyperparameters</a></span></li><li><span><a href=\"#Prepare-the-MNIST-Dataset\" data-toc-modified-id=\"Prepare-the-MNIST-Dataset-2\"><span class=\"toc-item-num\">2&nbsp;&nbsp;</span>Prepare the MNIST Dataset</a></span></li><li><span><a href=\"#Create-a-Neural-Network\" data-toc-modified-id=\"Create-a-Neural-Network-3\"><span class=\"toc-item-num\">3&nbsp;&nbsp;</span>Create a Neural Network</a></span></li><li><span><a href=\"#Train-Classifier\" data-toc-modified-id=\"Train-Classifier-4\"><span class=\"toc-item-num\">4&nbsp;&nbsp;</span>Train Classifier</a></span></li></ul></div>"
   ]
  },
  {
   "cell_type": "markdown",
   "id": "2a1e08ac",
   "metadata": {},
   "source": [
    "# Mini-Batch Stochastic Gradient Descent\n",
    "\n",
    "In this notebook we will:\n",
    "\n",
    "1. set initial hyperparameters,\n",
    "2. prepare the MNIST dataset,\n",
    "3. create a simple, fully connected neural network, and then\n",
    "4. train a neural network to classify digits."
   ]
  },
  {
   "cell_type": "markdown",
   "id": "2f3c955e",
   "metadata": {},
   "source": [
    "## Set Hyperparameters"
   ]
  },
  {
   "cell_type": "code",
   "execution_count": 1,
   "id": "7610e0d6",
   "metadata": {},
   "outputs": [],
   "source": [
    "import torch\n",
    "import torch.nn as nn\n",
    "from torch.utils.data import DataLoader\n",
    "\n",
    "from torchsummary import summary\n",
    "\n",
    "from torchvision.datasets import MNIST\n",
    "from torchvision.transforms import Compose, Normalize, ToTensor\n",
    "\n",
    "from fastprogress.fastprogress import master_bar, progress_bar\n",
    "\n",
    "import matplotlib.pyplot as plt\n",
    "from jupyterthemes import jtplot\n",
    "\n",
    "jtplot.style(context=\"talk\")"
   ]
  },
  {
   "cell_type": "code",
   "execution_count": 2,
   "id": "1b77abda",
   "metadata": {},
   "outputs": [
    {
     "name": "stdout",
     "output_type": "stream",
     "text": [
      "Using 'cuda' device.\n"
     ]
    }
   ],
   "source": [
    "# Let's use some shared space for the data (so that we don't have copies\n",
    "# sitting around everywhere)\n",
    "data_path = \"/raid/cs152/cache/pytorch/data\"\n",
    "\n",
    "# Use the GPUs if they are available\n",
    "device = \"cuda\" if torch.cuda.is_available() else \"cpu\"\n",
    "print(f\"Using '{device}' device.\")\n",
    "\n",
    "# Model hyperparameters\n",
    "neurons_per_layer = [13, 17]\n",
    "\n",
    "# Mini-Batch SGD hyperparameters\n",
    "batch_size = 256\n",
    "num_epochs = 10\n",
    "learning_rate = 0.01\n",
    "\n",
    "criterion = nn.CrossEntropyLoss()"
   ]
  },
  {
   "cell_type": "markdown",
   "id": "17a4ad36",
   "metadata": {},
   "source": [
    "## Prepare the MNIST Dataset"
   ]
  },
  {
   "cell_type": "code",
   "execution_count": 3,
   "id": "4cb6a069",
   "metadata": {},
   "outputs": [],
   "source": [
    "def get_mnist_data_loaders(path, batch_size, valid_batch_size=0):\n",
    "\n",
    "    # MNIST specific transforms\n",
    "    mnist_mean = (0.1307,)\n",
    "    mnist_std = (0.3081,)\n",
    "    mnist_xforms = Compose([ToTensor(), Normalize(mnist_mean, mnist_std)])\n",
    "\n",
    "    # Training data loader\n",
    "    train_dataset = MNIST(root=path, train=True, download=True, transform=mnist_xforms)\n",
    "\n",
    "    # Set the batch size to N if batch_size is 0\n",
    "    tbs = len(train_dataset) if batch_size == 0 else batch_size\n",
    "    train_loader = DataLoader(train_dataset, batch_size=tbs, shuffle=True)\n",
    "\n",
    "    # Validation data loader\n",
    "    valid_dataset = MNIST(root=path, train=False, download=True, transform=mnist_xforms)\n",
    "\n",
    "    # Set the batch size to N if batch_size is 0\n",
    "    vbs = len(valid_dataset) if valid_batch_size == 0 else valid_batch_size\n",
    "    valid_loader = DataLoader(valid_dataset, batch_size=vbs, shuffle=True)\n",
    "\n",
    "    return train_loader, valid_loader"
   ]
  },
  {
   "cell_type": "code",
   "execution_count": 4,
   "id": "35d78186",
   "metadata": {},
   "outputs": [
    {
     "name": "stdout",
     "output_type": "stream",
     "text": [
      "Training dataset shape   : torch.Size([60000, 28, 28])\n",
      "Validation dataset shape : torch.Size([10000, 28, 28])\n"
     ]
    }
   ],
   "source": [
    "train_loader, valid_loader = get_mnist_data_loaders(data_path, batch_size)\n",
    "\n",
    "print(\"Training dataset shape   :\", train_loader.dataset.data.shape)\n",
    "print(\"Validation dataset shape :\", valid_loader.dataset.data.shape)\n",
    "\n",
    "# Notice that each example is 28x28. These are images"
   ]
  },
  {
   "cell_type": "code",
   "execution_count": 5,
   "id": "60a58188",
   "metadata": {},
   "outputs": [
    {
     "data": {
      "image/png": "[encoded data removed]",
      "text/plain": [
       "<Figure size 748.8x655.2 with 8 Axes>"
      ]
     },
     "metadata": {},
     "output_type": "display_data"
    }
   ],
   "source": [
    "# Let's plot a few images as an example\n",
    "num_to_show = 8\n",
    "images = train_loader.dataset.data[:num_to_show]\n",
    "labels = train_loader.dataset.targets[:num_to_show]\n",
    "\n",
    "fig, axes = plt.subplots(1, num_to_show)\n",
    "\n",
    "for axis, image, label in zip(axes, images, labels):\n",
    "    axis.imshow(image.squeeze(), cmap=\"Greys\")\n",
    "    axis.tick_params(left=False, bottom=False, labelleft=False, labelbottom=False)\n",
    "    axis.set_xticks([])\n",
    "    axis.set_yticks([])\n",
    "    axis.set_title(f\"Label: {label}\")"
   ]
  },
  {
   "cell_type": "markdown",
   "id": "6b5d50c0",
   "metadata": {},
   "source": [
    "## Create a Neural Network"
   ]
  },
  {
   "cell_type": "code",
   "execution_count": 6,
   "id": "6e55f6e8",
   "metadata": {},
   "outputs": [],
   "source": [
    "class NeuralNetwork(nn.Module):\n",
    "    def __init__(self, layer_sizes):\n",
    "        super(NeuralNetwork, self).__init__()\n",
    "\n",
    "        # The first \"layer\" just rearranges the Nx28x28 input into Nx784\n",
    "        first_layer = nn.Flatten()\n",
    "\n",
    "        # The hidden layers include:\n",
    "        # 1. a linear component (Z) and\n",
    "        # 2. a non-linear comonent (A)\n",
    "        hidden_layers = [\n",
    "            nn.Sequential(nn.Linear(nlminus1, nl), nn.ReLU())\n",
    "            for nl, nlminus1 in zip(layer_sizes[1:-1], layer_sizes)\n",
    "        ]\n",
    "\n",
    "        # The output layer does not include an activation function.\n",
    "        # See: https://pytorch.org/docs/stable/generated/torch.nn.CrossEntropyLoss.html\n",
    "        output_layer = nn.Linear(layer_sizes[-2], layer_sizes[-1])\n",
    "\n",
    "        # Group all layers into the sequential container\n",
    "        all_layers = [first_layer] + hidden_layers + [output_layer]\n",
    "        self.layers = nn.Sequential(*all_layers)\n",
    "\n",
    "    def forward(self, X):\n",
    "        return self.layers(X)"
   ]
  },
  {
   "cell_type": "code",
   "execution_count": 7,
   "id": "cde0860e",
   "metadata": {},
   "outputs": [
    {
     "name": "stdout",
     "output_type": "stream",
     "text": [
      "=================================================================\n",
      "Layer (type:depth-idx)                   Param #\n",
      "=================================================================\n",
      "├─Sequential: 1-1                        --\n",
      "|    └─Flatten: 2-1                      --\n",
      "|    └─Sequential: 2-2                   --\n",
      "|    |    └─Linear: 3-1                  10,205\n",
      "|    |    └─ReLU: 3-2                    --\n",
      "|    └─Sequential: 2-3                   --\n",
      "|    |    └─Linear: 3-3                  238\n",
      "|    |    └─ReLU: 3-4                    --\n",
      "|    └─Linear: 2-4                       180\n",
      "=================================================================\n",
      "Total params: 10,623\n",
      "Trainable params: 10,623\n",
      "Non-trainable params: 0\n",
      "=================================================================\n"
     ]
    }
   ],
   "source": [
    "# The input layer size depends on the dataset\n",
    "n0 = train_loader.dataset.data.shape[1:].numel()\n",
    "\n",
    "# The output layer size depends on the dataset\n",
    "nL = len(train_loader.dataset.classes)\n",
    "\n",
    "# Preprend the input and append the output layer sizes\n",
    "layer_sizes = [n0] + neurons_per_layer + [nL]\n",
    "model = NeuralNetwork(layer_sizes).to(device)\n",
    "\n",
    "summary(model);"
   ]
  },
  {
   "cell_type": "markdown",
   "id": "118c4f7f",
   "metadata": {},
   "source": [
    "## Train Classifier"
   ]
  },
  {
   "cell_type": "code",
   "execution_count": 8,
   "id": "2f98f2bf",
   "metadata": {},
   "outputs": [
    {
     "data": {
      "text/html": [
       "[ 1/10] Train Loss = 1.9130; Valid Loss = 1.3614; Valid Accuracy = 64.3%<p>[ 2/10] Train Loss = 0.9727; Valid Loss = 0.7072; Valid Accuracy = 80.2%<p>[ 3/10] Train Loss = 0.6095; Valid Loss = 0.5068; Valid Accuracy = 85.7%<p>[ 4/10] Train Loss = 0.4759; Valid Loss = 0.4249; Valid Accuracy = 87.8%<p>[ 5/10] Train Loss = 0.4131; Valid Loss = 0.3822; Valid Accuracy = 88.9%<p>[ 6/10] Train Loss = 0.3771; Valid Loss = 0.3577; Valid Accuracy = 89.6%<p>[ 7/10] Train Loss = 0.3536; Valid Loss = 0.3352; Valid Accuracy = 90.2%<p>[ 8/10] Train Loss = 0.3365; Valid Loss = 0.3228; Valid Accuracy = 90.6%<p>[ 9/10] Train Loss = 0.3226; Valid Loss = 0.3100; Valid Accuracy = 91.0%<p>[10/10] Train Loss = 0.3109; Valid Loss = 0.3004; Valid Accuracy = 91.3%"
      ],
      "text/plain": [
       "<IPython.core.display.HTML object>"
      ]
     },
     "metadata": {},
     "output_type": "display_data"
    },
    {
     "data": {
      "image/png": "[encoded data removed]",
      "text/plain": [
       "<Figure size 432x288 with 1 Axes>"
      ]
     },
     "metadata": {},
     "output_type": "display_data"
    }
   ],
   "source": [
    "# A master bar for fancy output progress\n",
    "mb = master_bar(range(num_epochs))\n",
    "\n",
    "# Information for plots\n",
    "mb.names = [\"Train Loss\", \"Valid Loss\"]\n",
    "train_losses = []\n",
    "valid_losses = []\n",
    "\n",
    "for epoch in mb:\n",
    "\n",
    "    #\n",
    "    # Training\n",
    "    #\n",
    "    model.train()\n",
    "\n",
    "    train_N = len(train_loader.dataset)\n",
    "    num_train_batches = len(train_loader)\n",
    "    train_dataiterator = iter(train_loader)\n",
    "\n",
    "    train_loss_mean = 0\n",
    "\n",
    "    for batch in progress_bar(range(num_train_batches), parent=mb):\n",
    "\n",
    "        # Grab the batch of data and send it to the correct device\n",
    "        X, Y = next(train_dataiterator)\n",
    "        X, Y = X.to(device), Y.to(device)\n",
    "\n",
    "        # Compute the output\n",
    "        train_output = model(X)\n",
    "\n",
    "        # Compute loss\n",
    "        train_loss = criterion(train_output, Y)\n",
    "\n",
    "        num_in_batch = len(X)\n",
    "        tloss = train_loss.item() * num_in_batch / train_N\n",
    "        train_loss_mean += tloss\n",
    "        train_losses.append(train_loss.item())\n",
    "\n",
    "        # Compute partial derivatives\n",
    "        model.zero_grad()\n",
    "        train_loss.backward()\n",
    "\n",
    "        # Update parameters\n",
    "        with torch.no_grad():\n",
    "            for param in model.parameters():\n",
    "                param -= learning_rate * param.grad\n",
    "\n",
    "    #\n",
    "    # Validation\n",
    "    #\n",
    "    model.eval()\n",
    "\n",
    "    valid_N = len(valid_loader.dataset)\n",
    "    num_valid_batches = len(valid_loader)\n",
    "\n",
    "    valid_loss_mean = 0\n",
    "    valid_correct = 0\n",
    "\n",
    "    with torch.no_grad():\n",
    "\n",
    "        # valid_loader is probably just one large batch, so not using progress bar\n",
    "        for X, Y in valid_loader:\n",
    "\n",
    "            X, Y = X.to(device), Y.to(device)\n",
    "\n",
    "            valid_output = model(X)\n",
    "\n",
    "            valid_loss = criterion(valid_output, Y)\n",
    "\n",
    "            num_in_batch = len(X)\n",
    "            vloss = valid_loss.item() * num_in_batch / valid_N\n",
    "            valid_loss_mean += vloss\n",
    "            valid_losses.append(valid_loss.item())\n",
    "\n",
    "            # Convert network output into predictions (one-hot -> number)\n",
    "            predictions = valid_output.argmax(1)\n",
    "\n",
    "            # Sum up total number that were correct\n",
    "            valid_correct += (predictions == Y).type(torch.float).sum().item()\n",
    "\n",
    "    valid_accuracy = 100 * (valid_correct / valid_N)\n",
    "\n",
    "    # Report information\n",
    "    tloss = f\"Train Loss = {train_loss_mean:.4f}\"\n",
    "    vloss = f\"Valid Loss = {valid_loss_mean:.4f}\"\n",
    "    vaccu = f\"Valid Accuracy = {(valid_accuracy):>0.1f}%\"\n",
    "    mb.write(f\"[{epoch+1:>2}/{num_epochs}] {tloss}; {vloss}; {vaccu}\")\n",
    "\n",
    "    # Update plot data\n",
    "    max_loss = max(max(train_losses), max(valid_losses))\n",
    "    min_loss = min(min(train_losses), min(valid_losses))\n",
    "    \n",
    "    x_margin = 0.2\n",
    "    x_bounds = [0 - x_margin, num_epochs + x_margin]\n",
    "\n",
    "    y_margin = 0.1\n",
    "    y_bounds = [min_loss - y_margin, max_loss + y_margin]\n",
    "\n",
    "    train_xaxis = torch.linspace(0, epoch + 1, len(train_losses))\n",
    "    valid_xaxis = torch.linspace(1, epoch + 1, len(valid_losses))\n",
    "    graph_data = [[train_xaxis, train_losses], [valid_xaxis, valid_losses]]\n",
    "\n",
    "    mb.update_graph(graph_data, x_bounds, y_bounds)"
   ]
  },
  {
   "cell_type": "code",
   "execution_count": null,
   "id": "971d52b5",
   "metadata": {},
   "outputs": [],
   "source": []
  }
 ],
 "metadata": {
  "jupytext": {
   "formats": "ipynb,py:percent"
  },
  "kernelspec": {
   "display_name": "Python 3 (ipykernel)",
   "language": "python",
   "name": "python3"
  },
  "language_info": {
   "codemirror_mode": {
    "name": "ipython",
    "version": 3
   },
   "file_extension": ".py",
   "mimetype": "text/x-python",
   "name": "python",
   "nbconvert_exporter": "python",
   "pygments_lexer": "ipython3",
   "version": "3.9.9"
  },
  "toc": {
   "base_numbering": 1,
   "nav_menu": {},
   "number_sections": true,
   "sideBar": true,
   "skip_h1_title": true,
   "title_cell": "Table of Contents",
   "title_sidebar": "Contents",
   "toc_cell": true,
   "toc_position": {},
   "toc_section_display": true,
   "toc_window_display": false
  }
 },
 "nbformat": 4,
 "nbformat_minor": 5
}
